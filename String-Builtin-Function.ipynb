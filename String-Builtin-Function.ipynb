{
 "cells": [
  {
   "cell_type": "markdown",
   "metadata": {},
   "source": [
    "# Assignment Python                        #Timing 9-12 \n",
    " \n",
    " \n",
    "# String Builtin Function                   # 24-11-2019                        "
   ]
  },
  {
   "cell_type": "code",
   "execution_count": 1,
   "metadata": {},
   "outputs": [
    {
     "data": {
      "text/plain": [
       "['__add__',\n",
       " '__class__',\n",
       " '__contains__',\n",
       " '__delattr__',\n",
       " '__dir__',\n",
       " '__doc__',\n",
       " '__eq__',\n",
       " '__format__',\n",
       " '__ge__',\n",
       " '__getattribute__',\n",
       " '__getitem__',\n",
       " '__getnewargs__',\n",
       " '__gt__',\n",
       " '__hash__',\n",
       " '__init__',\n",
       " '__init_subclass__',\n",
       " '__iter__',\n",
       " '__le__',\n",
       " '__len__',\n",
       " '__lt__',\n",
       " '__mod__',\n",
       " '__mul__',\n",
       " '__ne__',\n",
       " '__new__',\n",
       " '__reduce__',\n",
       " '__reduce_ex__',\n",
       " '__repr__',\n",
       " '__rmod__',\n",
       " '__rmul__',\n",
       " '__setattr__',\n",
       " '__sizeof__',\n",
       " '__str__',\n",
       " '__subclasshook__',\n",
       " 'capitalize',\n",
       " 'casefold',\n",
       " 'center',\n",
       " 'count',\n",
       " 'encode',\n",
       " 'endswith',\n",
       " 'expandtabs',\n",
       " 'find',\n",
       " 'format',\n",
       " 'format_map',\n",
       " 'index',\n",
       " 'isalnum',\n",
       " 'isalpha',\n",
       " 'isascii',\n",
       " 'isdecimal',\n",
       " 'isdigit',\n",
       " 'isidentifier',\n",
       " 'islower',\n",
       " 'isnumeric',\n",
       " 'isprintable',\n",
       " 'isspace',\n",
       " 'istitle',\n",
       " 'isupper',\n",
       " 'join',\n",
       " 'ljust',\n",
       " 'lower',\n",
       " 'lstrip',\n",
       " 'maketrans',\n",
       " 'partition',\n",
       " 'replace',\n",
       " 'rfind',\n",
       " 'rindex',\n",
       " 'rjust',\n",
       " 'rpartition',\n",
       " 'rsplit',\n",
       " 'rstrip',\n",
       " 'split',\n",
       " 'splitlines',\n",
       " 'startswith',\n",
       " 'strip',\n",
       " 'swapcase',\n",
       " 'title',\n",
       " 'translate',\n",
       " 'upper',\n",
       " 'zfill']"
      ]
     },
     "execution_count": 1,
     "metadata": {},
     "output_type": "execute_result"
    }
   ],
   "source": [
    "n='Nauman Khalid'\n",
    "dir(n)"
   ]
  },
  {
   "cell_type": "code",
   "execution_count": 3,
   "metadata": {},
   "outputs": [
    {
     "name": "stdout",
     "output_type": "stream",
     "text": [
      "Nauman Khalid\n",
      "Nauman khalid\n"
     ]
    }
   ],
   "source": [
    "name='Nauman Khalid'\n",
    "print(name)\n",
    "print(name.capitalize()) #Only capitalize 1 character of string"
   ]
  },
  {
   "cell_type": "code",
   "execution_count": 4,
   "metadata": {},
   "outputs": [
    {
     "name": "stdout",
     "output_type": "stream",
     "text": [
      "nauman khalid\n"
     ]
    }
   ],
   "source": [
    "name='Nauman Khalid'\n",
    "print(name.casefold()) #lower all character of string"
   ]
  },
  {
   "cell_type": "code",
   "execution_count": 9,
   "metadata": {},
   "outputs": [
    {
     "name": "stdout",
     "output_type": "stream",
     "text": [
      "             Nauman Khalid              \n"
     ]
    }
   ],
   "source": [
    "name='Nauman Khalid'\n",
    "print(name.center(40)) #taking space of 40 character and pring name in the middle"
   ]
  },
  {
   "cell_type": "code",
   "execution_count": 14,
   "metadata": {},
   "outputs": [
    {
     "name": "stdout",
     "output_type": "stream",
     "text": [
      "3\n"
     ]
    }
   ],
   "source": [
    "name='Nauman Khalid'\n",
    "print(name.count('a')) #print total number of a character like 'a'"
   ]
  },
  {
   "cell_type": "code",
   "execution_count": 18,
   "metadata": {},
   "outputs": [
    {
     "name": "stdout",
     "output_type": "stream",
     "text": [
      "b'Nauman Kh\\xc3\\xa5lid'\n"
     ]
    }
   ],
   "source": [
    "name='Nauman Khålid'\n",
    "print(name.encode()) #encode the string "
   ]
  },
  {
   "cell_type": "code",
   "execution_count": 20,
   "metadata": {},
   "outputs": [
    {
     "name": "stdout",
     "output_type": "stream",
     "text": [
      "False\n"
     ]
    }
   ],
   "source": [
    "name='Nauman Khålid'\n",
    "print(name.endswith('l')) #compare with end character of string and reture true or false"
   ]
  },
  {
   "cell_type": "code",
   "execution_count": 23,
   "metadata": {},
   "outputs": [
    {
     "name": "stdout",
     "output_type": "stream",
     "text": [
      "N  auman Khålid\n"
     ]
    }
   ],
   "source": [
    "name='N\\tauman Khålid'\n",
    "print(name.expandtabs(3)) #space between the character"
   ]
  },
  {
   "cell_type": "code",
   "execution_count": 24,
   "metadata": {},
   "outputs": [
    {
     "name": "stdout",
     "output_type": "stream",
     "text": [
      "3\n"
     ]
    }
   ],
   "source": [
    "name='Nauman Khålid'\n",
    "print(name.find('m')) #return the index of find character"
   ]
  },
  {
   "cell_type": "code",
   "execution_count": 25,
   "metadata": {},
   "outputs": [
    {
     "name": "stdout",
     "output_type": "stream",
     "text": [
      "My Name is Nauman Khalid\n"
     ]
    }
   ],
   "source": [
    "name='My Name is {fname} {lname}'\n",
    "print(name.format(fname='Nauman',lname='Khalid')) #Insert the fname and lname inside the placeholder{}, the fname and lname should be in fixed point"
   ]
  },
  {
   "cell_type": "code",
   "execution_count": 32,
   "metadata": {},
   "outputs": [
    {
     "name": "stdout",
     "output_type": "stream",
     "text": [
      "Nauman Khalid\n"
     ]
    }
   ],
   "source": [
    "name={'fname':'Nauman', 'lname':'Khalid'}\n",
    "print('{fname} {lname}'.format_map(name))\n"
   ]
  },
  {
   "cell_type": "code",
   "execution_count": 33,
   "metadata": {},
   "outputs": [
    {
     "name": "stdout",
     "output_type": "stream",
     "text": [
      "7\n"
     ]
    }
   ],
   "source": [
    "name='Nauman Khålid' \n",
    "print(name.index('K'))  #return the index of specific character"
   ]
  },
  {
   "cell_type": "code",
   "execution_count": 40,
   "metadata": {},
   "outputs": [
    {
     "name": "stdout",
     "output_type": "stream",
     "text": [
      "True\n"
     ]
    }
   ],
   "source": [
    "name='Nauman43' \n",
    "print(name.isalnum()) #return if string is alphanumeic or not e.g character and number"
   ]
  },
  {
   "cell_type": "code",
   "execution_count": 42,
   "metadata": {},
   "outputs": [
    {
     "name": "stdout",
     "output_type": "stream",
     "text": [
      "True\n"
     ]
    }
   ],
   "source": [
    "name='NaumanKhalid' \n",
    "print(name.isalpha()) #return true of false if string have all alphabets without space"
   ]
  },
  {
   "cell_type": "code",
   "execution_count": 43,
   "metadata": {},
   "outputs": [
    {
     "name": "stdout",
     "output_type": "stream",
     "text": [
      "True\n"
     ]
    }
   ],
   "source": [
    "name='Nauman Khalid' \n",
    "print(name.isascii()) "
   ]
  },
  {
   "cell_type": "code",
   "execution_count": 44,
   "metadata": {},
   "outputs": [
    {
     "name": "stdout",
     "output_type": "stream",
     "text": [
      "False\n"
     ]
    }
   ],
   "source": [
    "name='Nauman Khalid' \n",
    "print(name.isdecimal()) #return if string have any decimal value"
   ]
  },
  {
   "cell_type": "code",
   "execution_count": 45,
   "metadata": {},
   "outputs": [
    {
     "name": "stdout",
     "output_type": "stream",
     "text": [
      "False\n"
     ]
    }
   ],
   "source": [
    "name='Nauman Khalid' \n",
    "print(name.isdigit()) #return if string have any digits"
   ]
  },
  {
   "cell_type": "code",
   "execution_count": 47,
   "metadata": {},
   "outputs": [
    {
     "name": "stdout",
     "output_type": "stream",
     "text": [
      "True\n"
     ]
    }
   ],
   "source": [
    "name='NaumanKhalid' \n",
    "print(name.isidentifier()) #return true or false if string have some identifier like start with _,or no space between word"
   ]
  },
  {
   "cell_type": "code",
   "execution_count": 48,
   "metadata": {},
   "outputs": [
    {
     "name": "stdout",
     "output_type": "stream",
     "text": [
      "False\n"
     ]
    }
   ],
   "source": [
    "name='Nauman Khalid'\n",
    "print(name.islower()) #return true or false if string have all characters are lower case"
   ]
  },
  {
   "cell_type": "code",
   "execution_count": 51,
   "metadata": {},
   "outputs": [
    {
     "name": "stdout",
     "output_type": "stream",
     "text": [
      "False\n",
      "True\n"
     ]
    }
   ],
   "source": [
    "name='Nauman Khalid'\n",
    "print(name.isnumeric())\n",
    "number='12'\n",
    "print(number.isnumeric()) #return true or false if string have all characters are numeric"
   ]
  },
  {
   "cell_type": "code",
   "execution_count": 52,
   "metadata": {},
   "outputs": [
    {
     "name": "stdout",
     "output_type": "stream",
     "text": [
      "True\n"
     ]
    }
   ],
   "source": [
    "name='Nauman Khalid'\n",
    "print(name.isprintable()) #return true or false if string have all characters are printable"
   ]
  },
  {
   "cell_type": "code",
   "execution_count": 56,
   "metadata": {},
   "outputs": [
    {
     "name": "stdout",
     "output_type": "stream",
     "text": [
      "False\n",
      "True\n"
     ]
    }
   ],
   "source": [
    "name='Nauman Khalid'\n",
    "print(name.isspace())\n",
    "name='  '\n",
    "print(name.isspace())  #returns True if all the characters in a string are whitespaces, otherwise False"
   ]
  },
  {
   "cell_type": "code",
   "execution_count": 57,
   "metadata": {},
   "outputs": [
    {
     "name": "stdout",
     "output_type": "stream",
     "text": [
      "True\n"
     ]
    }
   ],
   "source": [
    "name='Nauman Khalid'\n",
    "print(name.istitle()) #return true or false if each word start with an upper case letter"
   ]
  },
  {
   "cell_type": "code",
   "execution_count": 59,
   "metadata": {},
   "outputs": [
    {
     "name": "stdout",
     "output_type": "stream",
     "text": [
      "False\n",
      "True\n"
     ]
    }
   ],
   "source": [
    "name='Nauman Khalid'\n",
    "print(name.isupper())\n",
    "name='NAUMAN KHALID'\n",
    "print(name.isupper())  #return true or false if whole string will have upper case letter"
   ]
  },
  {
   "cell_type": "code",
   "execution_count": 62,
   "metadata": {},
   "outputs": [
    {
     "name": "stdout",
     "output_type": "stream",
     "text": [
      "Nauman    Khalid\n"
     ]
    }
   ],
   "source": [
    "name={'Nauman','Khalid'}\n",
    "print('  '.join(name)) #method takes all items in an iterable and joins them into one string. A string must be specified as the separator."
   ]
  },
  {
   "cell_type": "code",
   "execution_count": 71,
   "metadata": {},
   "outputs": [
    {
     "name": "stdout",
     "output_type": "stream",
     "text": [
      "Nauman               Khalid\n"
     ]
    }
   ],
   "source": [
    "name='Nauman '\n",
    "name1=name.ljust(20)\n",
    "print(name1,\"Khalid\")  #return 20 character space from left justified"
   ]
  },
  {
   "cell_type": "code",
   "execution_count": 72,
   "metadata": {},
   "outputs": [
    {
     "name": "stdout",
     "output_type": "stream",
     "text": [
      "nauman khalid\n"
     ]
    }
   ],
   "source": [
    "name='Nauman Khalid'\n",
    "print(name.lower())  #return all character in lower case"
   ]
  },
  {
   "cell_type": "code",
   "execution_count": 74,
   "metadata": {},
   "outputs": [
    {
     "name": "stdout",
     "output_type": "stream",
     "text": [
      "   Nauman Khalid   \n",
      "Nauman Khalid   \n"
     ]
    }
   ],
   "source": [
    "name='   Nauman Khalid   '\n",
    "print(name)\n",
    "name='   Nauman Khalid   '\n",
    "print(name.lstrip())   #remove space for letf side"
   ]
  },
  {
   "cell_type": "code",
   "execution_count": 77,
   "metadata": {},
   "outputs": [
    {
     "name": "stdout",
     "output_type": "stream",
     "text": [
      "('Nauman ', 'Khalid', '')\n"
     ]
    }
   ],
   "source": [
    "name='Nauman Khalid'\n",
    "print(name.partition('Khalid'))  #return a tuple"
   ]
  },
  {
   "cell_type": "code",
   "execution_count": 78,
   "metadata": {},
   "outputs": [
    {
     "name": "stdout",
     "output_type": "stream",
     "text": [
      "Nomi Khalid\n"
     ]
    }
   ],
   "source": [
    "name='Nauman Khalid'\n",
    "print(name.replace('Nauman','Nomi'))  #replace the word to another word"
   ]
  },
  {
   "cell_type": "code",
   "execution_count": 83,
   "metadata": {},
   "outputs": [
    {
     "name": "stdout",
     "output_type": "stream",
     "text": [
      "12\n"
     ]
    }
   ],
   "source": [
    "name='Nauman Khalid'\n",
    "print(name.rfind('d')) #return the index almost rindex(),if value not found return -1"
   ]
  },
  {
   "cell_type": "code",
   "execution_count": 85,
   "metadata": {},
   "outputs": [
    {
     "name": "stdout",
     "output_type": "stream",
     "text": [
      "7\n"
     ]
    }
   ],
   "source": [
    "name='Nauman Khalid'\n",
    "print(name.rindex('K')) #return the index almost rindex(),if value not found return error"
   ]
  },
  {
   "cell_type": "code",
   "execution_count": 89,
   "metadata": {},
   "outputs": [
    {
     "name": "stdout",
     "output_type": "stream",
     "text": [
      "            Nauman Khalid\n"
     ]
    }
   ],
   "source": [
    "name='Nauman Khalid'\n",
    "print(name.rjust(25)) #return a justified version of string"
   ]
  },
  {
   "cell_type": "code",
   "execution_count": 90,
   "metadata": {},
   "outputs": [
    {
     "name": "stdout",
     "output_type": "stream",
     "text": [
      "('Nauman ', 'Khalid', '')\n"
     ]
    }
   ],
   "source": [
    "name='Nauman Khalid'\n",
    "print(name.rpartition('Khalid'))"
   ]
  },
  {
   "cell_type": "code",
   "execution_count": 91,
   "metadata": {},
   "outputs": [
    {
     "name": "stdout",
     "output_type": "stream",
     "text": [
      "['Nauman', 'Khalid']\n"
     ]
    }
   ],
   "source": [
    "name='Nauman Khalid'\n",
    "print(name.rsplit()) #return in list"
   ]
  },
  {
   "cell_type": "code",
   "execution_count": 92,
   "metadata": {},
   "outputs": [
    {
     "name": "stdout",
     "output_type": "stream",
     "text": [
      "Nauman Khalid\n"
     ]
    }
   ],
   "source": [
    "name='Nauman Khalid'\n",
    "print(name.rstrip())"
   ]
  },
  {
   "cell_type": "code",
   "execution_count": 93,
   "metadata": {},
   "outputs": [
    {
     "name": "stdout",
     "output_type": "stream",
     "text": [
      "['Nauman', 'Khalid']\n"
     ]
    }
   ],
   "source": [
    "name='Nauman Khalid'\n",
    "print(name.split())"
   ]
  },
  {
   "cell_type": "code",
   "execution_count": 94,
   "metadata": {},
   "outputs": [
    {
     "name": "stdout",
     "output_type": "stream",
     "text": [
      "['Nauman Khalid']\n"
     ]
    }
   ],
   "source": [
    "name='Nauman Khalid'\n",
    "print(name.splitlines()) #return a single work list"
   ]
  },
  {
   "cell_type": "code",
   "execution_count": 97,
   "metadata": {},
   "outputs": [
    {
     "name": "stdout",
     "output_type": "stream",
     "text": [
      "True\n",
      "False\n"
     ]
    }
   ],
   "source": [
    "name='Nauman Khalid'\n",
    "print(name.startswith('N'))\n",
    "name='Nauman Khalid'\n",
    "print(name.startswith('K')) #return true or false if the given character are starting character of whole string"
   ]
  },
  {
   "cell_type": "code",
   "execution_count": 98,
   "metadata": {},
   "outputs": [
    {
     "name": "stdout",
     "output_type": "stream",
     "text": [
      "Nauman Khalid\n"
     ]
    }
   ],
   "source": [
    "name='Nauman Khalid'\n",
    "print(name.strip())"
   ]
  },
  {
   "cell_type": "code",
   "execution_count": 99,
   "metadata": {},
   "outputs": [
    {
     "name": "stdout",
     "output_type": "stream",
     "text": [
      "nAUMAN kHALID\n"
     ]
    }
   ],
   "source": [
    "name='Nauman Khalid'\n",
    "print(name.swapcase())  #return first character of every work in lower and other whole string will be UPPER case"
   ]
  },
  {
   "cell_type": "code",
   "execution_count": 101,
   "metadata": {},
   "outputs": [
    {
     "name": "stdout",
     "output_type": "stream",
     "text": [
      "Nauman Khalid\n"
     ]
    }
   ],
   "source": [
    "name='nauman khalid'\n",
    "print(name.title()) #convert the first character of every word in UPPER Case"
   ]
  },
  {
   "cell_type": "code",
   "execution_count": 103,
   "metadata": {},
   "outputs": [
    {
     "name": "stdout",
     "output_type": "stream",
     "text": [
      "NAUMAN KHALID\n"
     ]
    }
   ],
   "source": [
    "name='Nauman Khalid'\n",
    "print(name.upper()) #return the whole string in upper case"
   ]
  },
  {
   "cell_type": "code",
   "execution_count": 110,
   "metadata": {},
   "outputs": [
    {
     "name": "stdout",
     "output_type": "stream",
     "text": [
      "0Nauman Khalid\n"
     ]
    }
   ],
   "source": [
    "name='Nauman Khalid'\n",
    "print(name.zfill(14)) #add zeros after the total character of string with includes spaces"
   ]
  }
 ],
 "metadata": {
  "kernelspec": {
   "display_name": "Python 3",
   "language": "python",
   "name": "python3"
  },
  "language_info": {
   "codemirror_mode": {
    "name": "ipython",
    "version": 3
   },
   "file_extension": ".py",
   "mimetype": "text/x-python",
   "name": "python",
   "nbconvert_exporter": "python",
   "pygments_lexer": "ipython3",
   "version": "3.7.3"
  }
 },
 "nbformat": 4,
 "nbformat_minor": 2
}
